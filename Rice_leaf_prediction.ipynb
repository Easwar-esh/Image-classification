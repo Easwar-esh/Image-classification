{
  "nbformat": 4,
  "nbformat_minor": 0,
  "metadata": {
    "colab": {
      "provenance": []
    },
    "kernelspec": {
      "name": "python3",
      "display_name": "Python 3"
    },
    "language_info": {
      "name": "python"
    },
    "gpuClass": "standard"
  },
  "cells": [
    {
      "cell_type": "code",
      "execution_count": null,
      "metadata": {
        "colab": {
          "base_uri": "https://localhost:8080/"
        },
        "id": "HMfi0VZ3VYYN",
        "outputId": "ae76857a-ea9c-44c3-cfa5-c94b1eee51c9"
      },
      "outputs": [
        {
          "output_type": "stream",
          "name": "stdout",
          "text": [
            "Mounted at /content/drive\n"
          ]
        }
      ],
      "source": [
        "from google.colab import drive\n",
        "import os\n",
        "#drive connection\n",
        "drive.mount('/content/drive')\n",
        "os.getcwd()\n",
        "os.chdir('/content/drive')"
      ]
    },
    {
      "cell_type": "code",
      "source": [
        "import pandas as pd\n",
        "import cv2 as cv\n",
        "import numpy as np\n",
        "import matplotlib.pyplot as plt\n",
        "import os\n",
        "import seaborn as sns"
      ],
      "metadata": {
        "id": "ox1R8xqNVoCh"
      },
      "execution_count": null,
      "outputs": []
    },
    {
      "cell_type": "code",
      "source": [
        "CATEGORIES=[\"Bacterial_leaf_blight\",\"Brown spot\",\"Leaf smut\"]\n",
        "#Making label of data\n",
        "data=[]\n",
        "for category in CATEGORIES:\n",
        "        label=CATEGORIES.index(category)\n",
        "        path=os.path.join(\"/content/drive/MyDrive/rice_leaf_diseases\",category)\n",
        "        for img_file in os.listdir(path):\n",
        "            img=cv.imread(os.path.join(path,img_file),1)\n",
        "            img=cv.cvtColor(img,cv.COLOR_BGR2RGB)\n",
        "            img=cv.resize(img,(64,64))            \n",
        "            data.append([img,label])\n",
        "print(len(data))"
      ],
      "metadata": {
        "colab": {
          "base_uri": "https://localhost:8080/"
        },
        "id": "JhNwu0yOVoIk",
        "outputId": "c801aa10-713f-408e-9719-54ecd46425ea"
      },
      "execution_count": null,
      "outputs": [
        {
          "output_type": "stream",
          "name": "stdout",
          "text": [
            "120\n"
          ]
        }
      ]
    },
    {
      "cell_type": "code",
      "source": [
        "import random\n",
        "\n",
        "random.shuffle(data)\n",
        "\n",
        "for lbl in data[:10]:\n",
        "    print(lbl[1])"
      ],
      "metadata": {
        "colab": {
          "base_uri": "https://localhost:8080/"
        },
        "id": "dTbDL7yPVoSU",
        "outputId": "4a5385e1-2bbe-450c-ed34-c3eeca771c1b"
      },
      "execution_count": null,
      "outputs": [
        {
          "output_type": "stream",
          "name": "stdout",
          "text": [
            "2\n",
            "0\n",
            "0\n",
            "2\n",
            "0\n",
            "2\n",
            "0\n",
            "0\n",
            "2\n",
            "1\n"
          ]
        }
      ]
    },
    {
      "cell_type": "code",
      "source": [
        "#spilting features and label in Training data\n",
        "X=[]\n",
        "y=[]\n",
        "\n",
        "for features,label in data:\n",
        "    X.append(features)\n",
        "    y.append(label)\n",
        "Y=[]\n",
        "for i in y:\n",
        "    if i==0:\n",
        "        Y.append(\"Bacterial_leaf_blight\")\n",
        "    elif i==1:\n",
        "        Y.append(\"Brown spot\")\n",
        "    else:\n",
        "        Y.append(\"Leaf smut\")\n",
        "print(len(X),len(y))"
      ],
      "metadata": {
        "colab": {
          "base_uri": "https://localhost:8080/"
        },
        "id": "xlOALZ9JVobY",
        "outputId": "f675791c-63e5-44fd-8245-e99062b836e1"
      },
      "execution_count": null,
      "outputs": [
        {
          "output_type": "stream",
          "name": "stdout",
          "text": [
            "120 120\n"
          ]
        }
      ]
    },
    {
      "cell_type": "code",
      "source": [
        "ax=sns.countplot(Y, order=CATEGORIES)\n",
        "ax.set_xlabel(\"Leaf Diseases\")\n",
        "ax.set_xticklabels(ax.get_xticklabels(), rotation=40, ha='right')\n",
        "ax.set_ylabel(\"Image Count\")\n",
        "X = np.array(X)\n",
        "y = np.array(y)"
      ],
      "metadata": {
        "colab": {
          "base_uri": "https://localhost:8080/",
          "height": 398
        },
        "id": "yhOgoCILVojH",
        "outputId": "61582913-f4f7-4ad5-dc15-58e303dbbd42"
      },
      "execution_count": null,
      "outputs": [
        {
          "output_type": "stream",
          "name": "stderr",
          "text": [
            "/usr/local/lib/python3.7/dist-packages/seaborn/_decorators.py:43: FutureWarning: Pass the following variable as a keyword arg: x. From version 0.12, the only valid positional argument will be `data`, and passing other arguments without an explicit keyword will result in an error or misinterpretation.\n",
            "  FutureWarning\n"
          ]
        },
        {
          "output_type": "display_data",
          "data": {
            "text/plain": [
              "<Figure size 432x288 with 1 Axes>"
            ],
            "image/png": "[encoded data removed]"
          },
          "metadata": {
            "needs_background": "light"
          }
        }
      ]
    },
    {
      "cell_type": "code",
      "source": [
        "from sklearn.model_selection import train_test_split\n",
        "X_train, X_test, y_train, y_test = train_test_split(X, y, random_state=0)\n",
        "print(len(X_train),len(X_test),len(y_train),len(y_test))"
      ],
      "metadata": {
        "colab": {
          "base_uri": "https://localhost:8080/"
        },
        "id": "B3c9AVfhVorc",
        "outputId": "90876352-134e-4063-e6c9-0dd42c588eda"
      },
      "execution_count": null,
      "outputs": [
        {
          "output_type": "stream",
          "name": "stdout",
          "text": [
            "90 30 90 30\n"
          ]
        }
      ]
    },
    {
      "cell_type": "code",
      "source": [
        "X_train = X_train / 255\n",
        "X_test = X_test / 255"
      ],
      "metadata": {
        "id": "kMk3haMHeRIt"
      },
      "execution_count": null,
      "outputs": []
    },
    {
      "cell_type": "code",
      "source": [
        "from tensorflow.keras.utils import to_categorical\n",
        "\n",
        "one_hot_train=to_categorical(y_train)\n",
        "print(one_hot_train)\n",
        "\n",
        "one_hot_test=to_categorical(y_test)\n",
        "print(one_hot_test)"
      ],
      "metadata": {
        "colab": {
          "base_uri": "https://localhost:8080/"
        },
        "id": "wBQUtwK4fTKs",
        "outputId": "02edac3e-bc52-411c-bf2c-95c76d76c477"
      },
      "execution_count": null,
      "outputs": [
        {
          "output_type": "stream",
          "name": "stdout",
          "text": [
            "[[0. 0. 1.]\n",
            " [1. 0. 0.]\n",
            " [0. 1. 0.]\n",
            " [0. 1. 0.]\n",
            " [0. 0. 1.]\n",
            " [1. 0. 0.]\n",
            " [1. 0. 0.]\n",
            " [1. 0. 0.]\n",
            " [1. 0. 0.]\n",
            " [0. 0. 1.]\n",
            " [0. 0. 1.]\n",
            " [0. 1. 0.]\n",
            " [0. 0. 1.]\n",
            " [0. 1. 0.]\n",
            " [0. 1. 0.]\n",
            " [1. 0. 0.]\n",
            " [1. 0. 0.]\n",
            " [1. 0. 0.]\n",
            " [0. 1. 0.]\n",
            " [0. 0. 1.]\n",
            " [0. 0. 1.]\n",
            " [0. 0. 1.]\n",
            " [0. 1. 0.]\n",
            " [1. 0. 0.]\n",
            " [0. 0. 1.]\n",
            " [0. 0. 1.]\n",
            " [0. 1. 0.]\n",
            " [1. 0. 0.]\n",
            " [1. 0. 0.]\n",
            " [0. 1. 0.]\n",
            " [0. 1. 0.]\n",
            " [0. 1. 0.]\n",
            " [0. 1. 0.]\n",
            " [0. 0. 1.]\n",
            " [1. 0. 0.]\n",
            " [1. 0. 0.]\n",
            " [0. 0. 1.]\n",
            " [0. 0. 1.]\n",
            " [0. 1. 0.]\n",
            " [1. 0. 0.]\n",
            " [1. 0. 0.]\n",
            " [1. 0. 0.]\n",
            " [0. 1. 0.]\n",
            " [0. 1. 0.]\n",
            " [0. 0. 1.]\n",
            " [0. 1. 0.]\n",
            " [0. 1. 0.]\n",
            " [0. 0. 1.]\n",
            " [0. 1. 0.]\n",
            " [0. 0. 1.]\n",
            " [0. 0. 1.]\n",
            " [0. 1. 0.]\n",
            " [0. 1. 0.]\n",
            " [0. 0. 1.]\n",
            " [0. 0. 1.]\n",
            " [1. 0. 0.]\n",
            " [1. 0. 0.]\n",
            " [0. 0. 1.]\n",
            " [0. 1. 0.]\n",
            " [1. 0. 0.]\n",
            " [0. 1. 0.]\n",
            " [0. 0. 1.]\n",
            " [1. 0. 0.]\n",
            " [0. 1. 0.]\n",
            " [1. 0. 0.]\n",
            " [0. 1. 0.]\n",
            " [0. 0. 1.]\n",
            " [1. 0. 0.]\n",
            " [1. 0. 0.]\n",
            " [1. 0. 0.]\n",
            " [1. 0. 0.]\n",
            " [0. 0. 1.]\n",
            " [0. 0. 1.]\n",
            " [0. 0. 1.]\n",
            " [1. 0. 0.]\n",
            " [1. 0. 0.]\n",
            " [0. 1. 0.]\n",
            " [0. 1. 0.]\n",
            " [1. 0. 0.]\n",
            " [0. 1. 0.]\n",
            " [1. 0. 0.]\n",
            " [0. 1. 0.]\n",
            " [0. 1. 0.]\n",
            " [0. 1. 0.]\n",
            " [0. 1. 0.]\n",
            " [1. 0. 0.]\n",
            " [0. 0. 1.]\n",
            " [1. 0. 0.]\n",
            " [0. 1. 0.]\n",
            " [0. 0. 1.]]\n",
            "[[0. 1. 0.]\n",
            " [0. 1. 0.]\n",
            " [0. 0. 1.]\n",
            " [0. 0. 1.]\n",
            " [1. 0. 0.]\n",
            " [0. 0. 1.]\n",
            " [1. 0. 0.]\n",
            " [0. 1. 0.]\n",
            " [0. 0. 1.]\n",
            " [0. 0. 1.]\n",
            " [0. 0. 1.]\n",
            " [0. 0. 1.]\n",
            " [1. 0. 0.]\n",
            " [0. 1. 0.]\n",
            " [0. 0. 1.]\n",
            " [1. 0. 0.]\n",
            " [0. 0. 1.]\n",
            " [0. 0. 1.]\n",
            " [1. 0. 0.]\n",
            " [0. 1. 0.]\n",
            " [0. 1. 0.]\n",
            " [1. 0. 0.]\n",
            " [0. 1. 0.]\n",
            " [1. 0. 0.]\n",
            " [0. 0. 1.]\n",
            " [1. 0. 0.]\n",
            " [0. 0. 1.]\n",
            " [0. 0. 1.]\n",
            " [0. 1. 0.]\n",
            " [1. 0. 0.]]\n"
          ]
        }
      ]
    },
    {
      "cell_type": "code",
      "source": [
        "from tensorflow.keras.models import Sequential\n",
        "from tensorflow.keras import layers\n",
        "import tensorflow as tf\n",
        "num_classes = 3\n",
        "model = Sequential([\n",
        "  layers.Conv2D(16, 3, padding='same', activation='relu'),\n",
        "  layers.MaxPooling2D(),\n",
        "  layers.Conv2D(32, 3, padding='same', activation='relu'),\n",
        "  layers.MaxPooling2D(),\n",
        "  layers.Conv2D(64, 3, padding='same', activation='relu'),\n",
        "  layers.MaxPooling2D(),\n",
        "  layers.Flatten(),\n",
        "  layers.Dense(128, activation='relu'),\n",
        "  layers.Dense(64,activation='relu'),\n",
        "  \n",
        "  layers.Dense(3,activation='softmax')\n",
        "  #layers.Dense(num_classes)\n",
        "])\n",
        "\n",
        "model.compile(optimizer='adam',\n",
        "              loss=tf.keras.losses.SparseCategoricalCrossentropy(from_logits=True),\n",
        "              metrics=['accuracy'])\n",
        "\"\"\"\n",
        "\n",
        "model.compile(optimizer='adam',\n",
        "              loss='categorical_crossentropy',\n",
        "              metrics=['accuracy'])\n",
        "\"\"\"\n",
        "              \n",
        "hist=model.fit(X_train,y_train, epochs=40,batch_size=128,validation_split=0.2)\n",
        "\n"
      ],
      "metadata": {
        "colab": {
          "base_uri": "https://localhost:8080/"
        },
        "id": "AouCsCq2eRSr",
        "outputId": "996bfe9e-2a84-4da2-e268-00310973537d"
      },
      "execution_count": null,
      "outputs": [
        {
          "output_type": "stream",
          "name": "stdout",
          "text": [
            "Epoch 1/40\n"
          ]
        },
        {
          "output_type": "stream",
          "name": "stderr",
          "text": [
            "/usr/local/lib/python3.7/dist-packages/tensorflow/python/util/dispatch.py:1082: UserWarning: \"`sparse_categorical_crossentropy` received `from_logits=True`, but the `output` argument was produced by a sigmoid or softmax activation and thus does not represent logits. Was this intended?\"\n",
            "  return dispatch_target(*args, **kwargs)\n"
          ]
        },
        {
          "output_type": "stream",
          "name": "stdout",
          "text": [
            "1/1 [==============================] - 1s 1s/step - loss: 1.0992 - accuracy: 0.3472 - val_loss: 1.1072 - val_accuracy: 0.4444\n",
            "Epoch 2/40\n",
            "1/1 [==============================] - 0s 318ms/step - loss: 1.1144 - accuracy: 0.3472 - val_loss: 1.0886 - val_accuracy: 0.4444\n",
            "Epoch 3/40\n",
            "1/1 [==============================] - 0s 329ms/step - loss: 1.0779 - accuracy: 0.5417 - val_loss: 1.0891 - val_accuracy: 0.3333\n",
            "Epoch 4/40\n",
            "1/1 [==============================] - 0s 309ms/step - loss: 1.0732 - accuracy: 0.3611 - val_loss: 1.0706 - val_accuracy: 0.3333\n",
            "Epoch 5/40\n",
            "1/1 [==============================] - 0s 309ms/step - loss: 1.0568 - accuracy: 0.4722 - val_loss: 1.0568 - val_accuracy: 0.6111\n",
            "Epoch 6/40\n",
            "1/1 [==============================] - 0s 315ms/step - loss: 1.0354 - accuracy: 0.6250 - val_loss: 1.0529 - val_accuracy: 0.5556\n",
            "Epoch 7/40\n",
            "1/1 [==============================] - 0s 339ms/step - loss: 1.0121 - accuracy: 0.6250 - val_loss: 1.0413 - val_accuracy: 0.4444\n",
            "Epoch 8/40\n",
            "1/1 [==============================] - 0s 324ms/step - loss: 0.9796 - accuracy: 0.6389 - val_loss: 1.0088 - val_accuracy: 0.5000\n",
            "Epoch 9/40\n",
            "1/1 [==============================] - 0s 342ms/step - loss: 0.9382 - accuracy: 0.6806 - val_loss: 0.9849 - val_accuracy: 0.5000\n",
            "Epoch 10/40\n",
            "1/1 [==============================] - 0s 329ms/step - loss: 0.8956 - accuracy: 0.6806 - val_loss: 0.9664 - val_accuracy: 0.6111\n",
            "Epoch 11/40\n",
            "1/1 [==============================] - 0s 318ms/step - loss: 0.8505 - accuracy: 0.6528 - val_loss: 0.9349 - val_accuracy: 0.6667\n",
            "Epoch 12/40\n",
            "1/1 [==============================] - 0s 313ms/step - loss: 0.8147 - accuracy: 0.6250 - val_loss: 1.1110 - val_accuracy: 0.3889\n",
            "Epoch 13/40\n",
            "1/1 [==============================] - 0s 332ms/step - loss: 0.8604 - accuracy: 0.6250 - val_loss: 0.9458 - val_accuracy: 0.5556\n",
            "Epoch 14/40\n",
            "1/1 [==============================] - 0s 321ms/step - loss: 0.7722 - accuracy: 0.6944 - val_loss: 0.9399 - val_accuracy: 0.6667\n",
            "Epoch 15/40\n",
            "1/1 [==============================] - 0s 320ms/step - loss: 0.7291 - accuracy: 0.6944 - val_loss: 1.0199 - val_accuracy: 0.4444\n",
            "Epoch 16/40\n",
            "1/1 [==============================] - 0s 326ms/step - loss: 0.7419 - accuracy: 0.6250 - val_loss: 0.9551 - val_accuracy: 0.5556\n",
            "Epoch 17/40\n",
            "1/1 [==============================] - 0s 321ms/step - loss: 0.6794 - accuracy: 0.6806 - val_loss: 1.0044 - val_accuracy: 0.6111\n",
            "Epoch 18/40\n",
            "1/1 [==============================] - 0s 315ms/step - loss: 0.7148 - accuracy: 0.7361 - val_loss: 0.9616 - val_accuracy: 0.5556\n",
            "Epoch 19/40\n",
            "1/1 [==============================] - 0s 324ms/step - loss: 0.6391 - accuracy: 0.6944 - val_loss: 1.0136 - val_accuracy: 0.5000\n",
            "Epoch 20/40\n",
            "1/1 [==============================] - 0s 321ms/step - loss: 0.6536 - accuracy: 0.6389 - val_loss: 0.9364 - val_accuracy: 0.6111\n",
            "Epoch 21/40\n",
            "1/1 [==============================] - 0s 323ms/step - loss: 0.5871 - accuracy: 0.7361 - val_loss: 0.9716 - val_accuracy: 0.6667\n",
            "Epoch 22/40\n",
            "1/1 [==============================] - 0s 331ms/step - loss: 0.6047 - accuracy: 0.8056 - val_loss: 0.9210 - val_accuracy: 0.5556\n",
            "Epoch 23/40\n",
            "1/1 [==============================] - 0s 317ms/step - loss: 0.5466 - accuracy: 0.7222 - val_loss: 0.9246 - val_accuracy: 0.5556\n",
            "Epoch 24/40\n",
            "1/1 [==============================] - 0s 327ms/step - loss: 0.5395 - accuracy: 0.7222 - val_loss: 0.9104 - val_accuracy: 0.6667\n",
            "Epoch 25/40\n",
            "1/1 [==============================] - 0s 327ms/step - loss: 0.5171 - accuracy: 0.8056 - val_loss: 0.8714 - val_accuracy: 0.6667\n",
            "Epoch 26/40\n",
            "1/1 [==============================] - 0s 320ms/step - loss: 0.4715 - accuracy: 0.8194 - val_loss: 0.8641 - val_accuracy: 0.6111\n",
            "Epoch 27/40\n",
            "1/1 [==============================] - 0s 323ms/step - loss: 0.4719 - accuracy: 0.7639 - val_loss: 0.8158 - val_accuracy: 0.6667\n",
            "Epoch 28/40\n",
            "1/1 [==============================] - 0s 331ms/step - loss: 0.4154 - accuracy: 0.8611 - val_loss: 0.8940 - val_accuracy: 0.6667\n",
            "Epoch 29/40\n",
            "1/1 [==============================] - 0s 324ms/step - loss: 0.4367 - accuracy: 0.8194 - val_loss: 0.7976 - val_accuracy: 0.7222\n",
            "Epoch 30/40\n",
            "1/1 [==============================] - 0s 333ms/step - loss: 0.3849 - accuracy: 0.8611 - val_loss: 0.7866 - val_accuracy: 0.6667\n",
            "Epoch 31/40\n",
            "1/1 [==============================] - 0s 326ms/step - loss: 0.3761 - accuracy: 0.8056 - val_loss: 0.8389 - val_accuracy: 0.7222\n",
            "Epoch 32/40\n",
            "1/1 [==============================] - 0s 337ms/step - loss: 0.3458 - accuracy: 0.8750 - val_loss: 0.8088 - val_accuracy: 0.7222\n",
            "Epoch 33/40\n",
            "1/1 [==============================] - 0s 324ms/step - loss: 0.3068 - accuracy: 0.9306 - val_loss: 0.7723 - val_accuracy: 0.7222\n",
            "Epoch 34/40\n",
            "1/1 [==============================] - 0s 322ms/step - loss: 0.3084 - accuracy: 0.8611 - val_loss: 0.8156 - val_accuracy: 0.7222\n",
            "Epoch 35/40\n",
            "1/1 [==============================] - 0s 343ms/step - loss: 0.2901 - accuracy: 0.9167 - val_loss: 0.8826 - val_accuracy: 0.6667\n",
            "Epoch 36/40\n",
            "1/1 [==============================] - 0s 334ms/step - loss: 0.3067 - accuracy: 0.9306 - val_loss: 0.7845 - val_accuracy: 0.7778\n",
            "Epoch 37/40\n",
            "1/1 [==============================] - 0s 327ms/step - loss: 0.2311 - accuracy: 0.9861 - val_loss: 0.8098 - val_accuracy: 0.6667\n",
            "Epoch 38/40\n",
            "1/1 [==============================] - 0s 338ms/step - loss: 0.2492 - accuracy: 0.8889 - val_loss: 0.8033 - val_accuracy: 0.7222\n",
            "Epoch 39/40\n",
            "1/1 [==============================] - 0s 327ms/step - loss: 0.2142 - accuracy: 0.9444 - val_loss: 0.9267 - val_accuracy: 0.7778\n",
            "Epoch 40/40\n",
            "1/1 [==============================] - 0s 318ms/step - loss: 0.2263 - accuracy: 0.9583 - val_loss: 0.8178 - val_accuracy: 0.7222\n"
          ]
        }
      ]
    },
    {
      "cell_type": "code",
      "source": [
        "plt.plot(hist.history['loss'])\n",
        "plt.plot(hist.history['val_loss'])\n",
        "plt.title('Classifier Loss')\n",
        "plt.ylabel('Loss')\n",
        "plt.xlabel('Epoch')\n",
        "plt.legend(['Train','Validation'],loc='upper right')\n",
        "plt.show()\n",
        "\"\"\"\n",
        "The training loss indicates how well the model is fitting the training data, while the validation loss indicates how well the model fits new data\n",
        "\"\"\""
      ],
      "metadata": {
        "colab": {
          "base_uri": "https://localhost:8080/",
          "height": 313
        },
        "id": "o_f5_Yk-Voyj",
        "outputId": "0a624c86-c669-438a-a558-f5c48740875b"
      },
      "execution_count": null,
      "outputs": [
        {
          "output_type": "display_data",
          "data": {
            "text/plain": [
              "<Figure size 432x288 with 1 Axes>"
            ],
            "image/png": "[encoded data removed]"
          },
          "metadata": {
            "needs_background": "light"
          }
        },
        {
          "output_type": "execute_result",
          "data": {
            "text/plain": [
              "'\\nThe training loss indicates how well the model is fitting the training data, while the validation loss indicates how well the model fits new data\\n'"
            ],
            "application/vnd.google.colaboratory.intrinsic+json": {
              "type": "string"
            }
          },
          "metadata": {},
          "execution_count": 19
        }
      ]
    },
    {
      "cell_type": "code",
      "source": [
        "plt.plot(hist.history['accuracy'])\n",
        "plt.plot(hist.history['val_accuracy'])\n",
        "plt.title('Classifier Accuracy')\n",
        "plt.ylabel('Accuracy')\n",
        "plt.xlabel('Epoch')\n",
        "plt.legend(['Train','Validation'],loc='upper left')\n",
        "plt.show()"
      ],
      "metadata": {
        "colab": {
          "base_uri": "https://localhost:8080/",
          "height": 295
        },
        "id": "IwzV5uvPi8jl",
        "outputId": "fd23e262-aac7-4d7b-e03c-ce6a8430714c"
      },
      "execution_count": null,
      "outputs": [
        {
          "output_type": "display_data",
          "data": {
            "text/plain": [
              "<Figure size 432x288 with 1 Axes>"
            ],
            "image/png": "[encoded data removed]"
          },
          "metadata": {
            "needs_background": "light"
          }
        }
      ]
    },
    {
      "cell_type": "code",
      "source": [
        "model.evaluate(X_test,y_test)"
      ],
      "metadata": {
        "colab": {
          "base_uri": "https://localhost:8080/"
        },
        "id": "x1-WJuudi8p9",
        "outputId": "47d41333-9742-4fb2-e44b-13a9a6f831a3"
      },
      "execution_count": null,
      "outputs": [
        {
          "output_type": "stream",
          "name": "stdout",
          "text": [
            "1/1 [==============================] - 0s 56ms/step - loss: 1.0952 - accuracy: 0.5000\n"
          ]
        },
        {
          "output_type": "execute_result",
          "data": {
            "text/plain": [
              "[1.0951588153839111, 0.5]"
            ]
          },
          "metadata": {},
          "execution_count": 14
        }
      ]
    },
    {
      "cell_type": "code",
      "source": [
        "predictions = model.predict(X_test)\n",
        "predictions"
      ],
      "metadata": {
        "colab": {
          "base_uri": "https://localhost:8080/"
        },
        "id": "M0kvIRGdi8vY",
        "outputId": "b557839f-d3f7-4277-f581-429938005564"
      },
      "execution_count": null,
      "outputs": [
        {
          "output_type": "execute_result",
          "data": {
            "text/plain": [
              "array([[5.70667982e-01, 3.68305504e-01, 6.10265732e-02],\n",
              "       [9.61178727e-03, 8.72023582e-01, 1.18364528e-01],\n",
              "       [7.33509511e-02, 7.48686612e-01, 1.77962422e-01],\n",
              "       [5.90869226e-02, 6.32409632e-01, 3.08503509e-01],\n",
              "       [8.80478621e-01, 6.18295893e-02, 5.76917045e-02],\n",
              "       [4.42106724e-02, 5.38013339e-01, 4.17775989e-01],\n",
              "       [8.26424837e-01, 8.67486075e-02, 8.68265331e-02],\n",
              "       [4.14850205e-01, 5.03109157e-01, 8.20405260e-02],\n",
              "       [1.50988877e-01, 8.33225191e-01, 1.57859605e-02],\n",
              "       [2.77747333e-01, 5.84640384e-01, 1.37612268e-01],\n",
              "       [2.05047578e-02, 9.51994717e-01, 2.75005754e-02],\n",
              "       [8.26638266e-02, 8.36378694e-01, 8.09574276e-02],\n",
              "       [2.83612698e-01, 5.94689429e-01, 1.21697858e-01],\n",
              "       [4.63482970e-03, 8.85564148e-01, 1.09801061e-01],\n",
              "       [1.29833473e-02, 9.57287371e-01, 2.97292434e-02],\n",
              "       [7.01157391e-01, 1.84861824e-01, 1.13980845e-01],\n",
              "       [1.23313395e-03, 9.24901292e-02, 9.06276703e-01],\n",
              "       [1.06334882e-02, 4.69371021e-01, 5.19995451e-01],\n",
              "       [8.12140465e-01, 5.26746623e-02, 1.35184839e-01],\n",
              "       [7.38257868e-03, 8.85947108e-01, 1.06670298e-01],\n",
              "       [7.97236047e-04, 3.90823215e-01, 6.08379602e-01],\n",
              "       [8.48274469e-01, 7.65774772e-02, 7.51480237e-02],\n",
              "       [6.08357694e-03, 8.11620295e-01, 1.82296082e-01],\n",
              "       [4.77804355e-02, 4.76846278e-01, 4.75373328e-01],\n",
              "       [1.01704122e-02, 7.70805478e-01, 2.19024077e-01],\n",
              "       [7.73601711e-01, 1.11256354e-01, 1.15141943e-01],\n",
              "       [5.44203520e-02, 5.76933086e-01, 3.68646592e-01],\n",
              "       [5.11841364e-02, 5.90430558e-01, 3.58385324e-01],\n",
              "       [5.43262297e-03, 9.37989891e-01, 5.65774404e-02],\n",
              "       [8.61878633e-01, 1.31431043e-01, 6.69030380e-03]], dtype=float32)"
            ]
          },
          "metadata": {},
          "execution_count": 15
        }
      ]
    },
    {
      "cell_type": "code",
      "source": [
        "import keras\n",
        "data_augmentation = keras.Sequential(\n",
        "  [\n",
        "\n",
        "    layers.experimental.preprocessing.RandomZoom(0.3),\n",
        "    layers.experimental.preprocessing.RandomRotation(0.1),\n",
        "    layers.experimental.preprocessing.RandomFlip(\"horizontal\")\n",
        "  ]\n",
        ")"
      ],
      "metadata": {
        "id": "wtEotQT5i81w"
      },
      "execution_count": null,
      "outputs": []
    },
    {
      "cell_type": "code",
      "source": [
        "num_classes = 3\n",
        "\n",
        "model = Sequential([\n",
        "  data_augmentation,\n",
        "  layers.Conv2D(16, 3, padding='same', activation='relu'),\n",
        "  layers.MaxPooling2D(),\n",
        "  layers.Conv2D(32, 3, padding='same', activation='relu'),\n",
        "  layers.MaxPooling2D(),\n",
        "  layers.Conv2D(64, 3, padding='same', activation='relu'),\n",
        "  layers.MaxPooling2D(),\n",
        "  layers.Dropout(0.1),\n",
        "  layers.Flatten(),\n",
        "  layers.Dense(128, activation='relu'),\n",
        "  layers.Dense(num_classes)\n",
        "])\n",
        "\n",
        "model.compile(optimizer='adam',\n",
        "              loss=tf.keras.losses.SparseCategoricalCrossentropy(from_logits=True),\n",
        "              metrics=['accuracy'])\n",
        "              \n",
        "model.fit(X_train, y_train, epochs=75,batch_size=5,validation_split=0.2)    "
      ],
      "metadata": {
        "colab": {
          "base_uri": "https://localhost:8080/"
        },
        "id": "gWiGilnVs-Wc",
        "outputId": "b9ab72e0-252a-4e53-b890-652f223b03a2"
      },
      "execution_count": null,
      "outputs": [
        {
          "output_type": "stream",
          "name": "stdout",
          "text": [
            "Epoch 1/75\n",
            "15/15 [==============================] - 2s 67ms/step - loss: 1.1949 - accuracy: 0.3056 - val_loss: 1.1074 - val_accuracy: 0.2222\n",
            "Epoch 2/75\n",
            "15/15 [==============================] - 1s 57ms/step - loss: 1.1047 - accuracy: 0.3472 - val_loss: 1.0722 - val_accuracy: 0.6111\n",
            "Epoch 3/75\n",
            "15/15 [==============================] - 1s 38ms/step - loss: 1.0830 - accuracy: 0.3750 - val_loss: 1.0597 - val_accuracy: 0.5556\n",
            "Epoch 4/75\n",
            "15/15 [==============================] - 1s 37ms/step - loss: 1.0612 - accuracy: 0.5139 - val_loss: 1.0123 - val_accuracy: 0.4444\n",
            "Epoch 5/75\n",
            "15/15 [==============================] - 1s 36ms/step - loss: 0.9918 - accuracy: 0.5278 - val_loss: 1.0042 - val_accuracy: 0.4444\n",
            "Epoch 6/75\n",
            "15/15 [==============================] - 1s 35ms/step - loss: 0.9679 - accuracy: 0.5556 - val_loss: 1.1610 - val_accuracy: 0.3333\n",
            "Epoch 7/75\n",
            "15/15 [==============================] - 1s 35ms/step - loss: 0.8691 - accuracy: 0.5278 - val_loss: 1.0452 - val_accuracy: 0.3333\n",
            "Epoch 8/75\n",
            "15/15 [==============================] - 1s 36ms/step - loss: 0.9060 - accuracy: 0.5972 - val_loss: 1.0439 - val_accuracy: 0.4444\n",
            "Epoch 9/75\n",
            "15/15 [==============================] - 1s 35ms/step - loss: 0.8318 - accuracy: 0.6111 - val_loss: 1.0794 - val_accuracy: 0.3889\n",
            "Epoch 10/75\n",
            "15/15 [==============================] - 1s 36ms/step - loss: 0.7590 - accuracy: 0.6667 - val_loss: 1.0973 - val_accuracy: 0.4444\n",
            "Epoch 11/75\n",
            "15/15 [==============================] - 1s 36ms/step - loss: 0.6546 - accuracy: 0.6944 - val_loss: 1.6874 - val_accuracy: 0.3333\n",
            "Epoch 12/75\n",
            "15/15 [==============================] - 1s 37ms/step - loss: 0.6850 - accuracy: 0.7222 - val_loss: 1.2932 - val_accuracy: 0.5000\n",
            "Epoch 13/75\n",
            "15/15 [==============================] - 1s 36ms/step - loss: 0.5744 - accuracy: 0.7778 - val_loss: 1.2898 - val_accuracy: 0.5000\n",
            "Epoch 14/75\n",
            "15/15 [==============================] - 1s 35ms/step - loss: 0.6238 - accuracy: 0.6806 - val_loss: 1.4038 - val_accuracy: 0.4444\n",
            "Epoch 15/75\n",
            "15/15 [==============================] - 1s 35ms/step - loss: 0.6256 - accuracy: 0.7083 - val_loss: 2.0314 - val_accuracy: 0.3889\n",
            "Epoch 16/75\n",
            "15/15 [==============================] - 1s 35ms/step - loss: 0.5986 - accuracy: 0.7222 - val_loss: 1.5336 - val_accuracy: 0.3333\n",
            "Epoch 17/75\n",
            "15/15 [==============================] - 1s 38ms/step - loss: 0.5958 - accuracy: 0.7222 - val_loss: 1.4569 - val_accuracy: 0.6111\n",
            "Epoch 18/75\n",
            "15/15 [==============================] - 1s 38ms/step - loss: 0.5293 - accuracy: 0.7500 - val_loss: 1.4343 - val_accuracy: 0.4444\n",
            "Epoch 19/75\n",
            "15/15 [==============================] - 1s 39ms/step - loss: 0.6081 - accuracy: 0.6528 - val_loss: 1.5690 - val_accuracy: 0.3333\n",
            "Epoch 20/75\n",
            "15/15 [==============================] - 1s 36ms/step - loss: 0.6104 - accuracy: 0.7361 - val_loss: 1.4696 - val_accuracy: 0.6111\n",
            "Epoch 21/75\n",
            "15/15 [==============================] - 1s 37ms/step - loss: 0.5523 - accuracy: 0.7361 - val_loss: 1.6236 - val_accuracy: 0.3333\n",
            "Epoch 22/75\n",
            "15/15 [==============================] - 1s 38ms/step - loss: 0.6971 - accuracy: 0.6806 - val_loss: 1.8597 - val_accuracy: 0.4444\n",
            "Epoch 23/75\n",
            "15/15 [==============================] - 1s 37ms/step - loss: 0.5356 - accuracy: 0.7778 - val_loss: 1.8846 - val_accuracy: 0.5556\n",
            "Epoch 24/75\n",
            "15/15 [==============================] - 1s 35ms/step - loss: 0.5815 - accuracy: 0.7222 - val_loss: 1.7755 - val_accuracy: 0.4444\n",
            "Epoch 25/75\n",
            "15/15 [==============================] - 1s 36ms/step - loss: 0.5576 - accuracy: 0.7639 - val_loss: 1.2528 - val_accuracy: 0.4444\n",
            "Epoch 26/75\n",
            "15/15 [==============================] - 1s 38ms/step - loss: 0.4917 - accuracy: 0.7778 - val_loss: 1.3087 - val_accuracy: 0.5000\n",
            "Epoch 27/75\n",
            "15/15 [==============================] - 1s 36ms/step - loss: 0.5111 - accuracy: 0.8056 - val_loss: 1.8358 - val_accuracy: 0.6111\n",
            "Epoch 28/75\n",
            "15/15 [==============================] - 1s 37ms/step - loss: 0.5178 - accuracy: 0.7361 - val_loss: 1.5123 - val_accuracy: 0.3889\n",
            "Epoch 29/75\n",
            "15/15 [==============================] - 1s 36ms/step - loss: 0.4734 - accuracy: 0.8194 - val_loss: 1.8581 - val_accuracy: 0.6111\n",
            "Epoch 30/75\n",
            "15/15 [==============================] - 1s 36ms/step - loss: 0.4765 - accuracy: 0.8194 - val_loss: 1.7714 - val_accuracy: 0.5000\n",
            "Epoch 31/75\n",
            "15/15 [==============================] - 1s 36ms/step - loss: 0.4081 - accuracy: 0.8333 - val_loss: 1.5149 - val_accuracy: 0.6111\n",
            "Epoch 32/75\n",
            "15/15 [==============================] - 1s 37ms/step - loss: 0.3708 - accuracy: 0.8611 - val_loss: 1.8214 - val_accuracy: 0.6111\n",
            "Epoch 33/75\n",
            "15/15 [==============================] - 1s 36ms/step - loss: 0.4031 - accuracy: 0.8472 - val_loss: 1.5936 - val_accuracy: 0.5556\n",
            "Epoch 34/75\n",
            "15/15 [==============================] - 1s 38ms/step - loss: 0.3386 - accuracy: 0.8333 - val_loss: 1.3455 - val_accuracy: 0.6667\n",
            "Epoch 35/75\n",
            "15/15 [==============================] - 1s 36ms/step - loss: 0.4526 - accuracy: 0.8056 - val_loss: 1.5155 - val_accuracy: 0.4444\n",
            "Epoch 36/75\n",
            "15/15 [==============================] - 1s 38ms/step - loss: 0.3384 - accuracy: 0.8194 - val_loss: 1.6604 - val_accuracy: 0.6667\n",
            "Epoch 37/75\n",
            "15/15 [==============================] - 1s 37ms/step - loss: 0.3525 - accuracy: 0.8611 - val_loss: 2.1777 - val_accuracy: 0.3889\n",
            "Epoch 38/75\n",
            "15/15 [==============================] - 1s 53ms/step - loss: 0.4478 - accuracy: 0.7778 - val_loss: 1.2263 - val_accuracy: 0.6111\n",
            "Epoch 39/75\n",
            "15/15 [==============================] - 1s 67ms/step - loss: 0.6507 - accuracy: 0.7500 - val_loss: 1.5412 - val_accuracy: 0.5000\n",
            "Epoch 40/75\n",
            "15/15 [==============================] - 1s 76ms/step - loss: 0.4326 - accuracy: 0.8611 - val_loss: 1.7916 - val_accuracy: 0.6667\n",
            "Epoch 41/75\n",
            "15/15 [==============================] - 1s 71ms/step - loss: 0.5350 - accuracy: 0.6944 - val_loss: 1.6991 - val_accuracy: 0.5000\n",
            "Epoch 42/75\n",
            "15/15 [==============================] - 1s 62ms/step - loss: 0.4945 - accuracy: 0.7917 - val_loss: 1.5293 - val_accuracy: 0.6111\n",
            "Epoch 43/75\n",
            "15/15 [==============================] - 1s 38ms/step - loss: 0.3869 - accuracy: 0.8333 - val_loss: 1.5431 - val_accuracy: 0.6111\n",
            "Epoch 44/75\n",
            "15/15 [==============================] - 1s 37ms/step - loss: 0.3386 - accuracy: 0.8333 - val_loss: 1.9017 - val_accuracy: 0.4444\n",
            "Epoch 45/75\n",
            "15/15 [==============================] - 1s 37ms/step - loss: 0.3490 - accuracy: 0.8611 - val_loss: 1.8795 - val_accuracy: 0.6111\n",
            "Epoch 46/75\n",
            "15/15 [==============================] - 1s 37ms/step - loss: 0.3283 - accuracy: 0.8889 - val_loss: 1.7144 - val_accuracy: 0.5556\n",
            "Epoch 47/75\n",
            "15/15 [==============================] - 1s 37ms/step - loss: 0.3144 - accuracy: 0.9028 - val_loss: 1.2963 - val_accuracy: 0.5556\n",
            "Epoch 48/75\n",
            "15/15 [==============================] - 1s 37ms/step - loss: 0.3291 - accuracy: 0.8472 - val_loss: 1.1179 - val_accuracy: 0.5000\n",
            "Epoch 49/75\n",
            "15/15 [==============================] - 1s 37ms/step - loss: 0.3254 - accuracy: 0.8750 - val_loss: 1.1581 - val_accuracy: 0.7222\n",
            "Epoch 50/75\n",
            "15/15 [==============================] - 1s 38ms/step - loss: 0.2334 - accuracy: 0.9167 - val_loss: 1.2314 - val_accuracy: 0.7222\n",
            "Epoch 51/75\n",
            "15/15 [==============================] - 1s 35ms/step - loss: 0.3534 - accuracy: 0.9028 - val_loss: 1.7403 - val_accuracy: 0.6111\n",
            "Epoch 52/75\n",
            "15/15 [==============================] - 1s 37ms/step - loss: 0.3066 - accuracy: 0.8750 - val_loss: 1.6469 - val_accuracy: 0.5556\n",
            "Epoch 53/75\n",
            "15/15 [==============================] - 1s 36ms/step - loss: 0.2673 - accuracy: 0.9028 - val_loss: 1.9389 - val_accuracy: 0.5000\n",
            "Epoch 54/75\n",
            "15/15 [==============================] - 1s 37ms/step - loss: 0.4215 - accuracy: 0.8194 - val_loss: 1.3014 - val_accuracy: 0.5000\n",
            "Epoch 55/75\n",
            "15/15 [==============================] - 1s 36ms/step - loss: 0.3666 - accuracy: 0.8333 - val_loss: 1.4564 - val_accuracy: 0.6111\n",
            "Epoch 56/75\n",
            "15/15 [==============================] - 1s 38ms/step - loss: 0.2649 - accuracy: 0.8889 - val_loss: 1.2472 - val_accuracy: 0.5556\n",
            "Epoch 57/75\n",
            "15/15 [==============================] - 1s 37ms/step - loss: 0.2636 - accuracy: 0.9028 - val_loss: 1.3912 - val_accuracy: 0.6667\n",
            "Epoch 58/75\n",
            "15/15 [==============================] - 1s 36ms/step - loss: 0.2135 - accuracy: 0.8889 - val_loss: 1.0823 - val_accuracy: 0.7778\n",
            "Epoch 59/75\n",
            "15/15 [==============================] - 1s 37ms/step - loss: 0.2895 - accuracy: 0.9028 - val_loss: 2.2114 - val_accuracy: 0.5000\n",
            "Epoch 60/75\n",
            "15/15 [==============================] - 1s 36ms/step - loss: 0.2850 - accuracy: 0.9167 - val_loss: 1.4558 - val_accuracy: 0.6111\n",
            "Epoch 61/75\n",
            "15/15 [==============================] - 1s 37ms/step - loss: 0.2828 - accuracy: 0.8611 - val_loss: 1.6447 - val_accuracy: 0.6667\n",
            "Epoch 62/75\n",
            "15/15 [==============================] - 1s 36ms/step - loss: 0.3646 - accuracy: 0.9028 - val_loss: 1.6012 - val_accuracy: 0.4444\n",
            "Epoch 63/75\n",
            "15/15 [==============================] - 1s 37ms/step - loss: 0.2587 - accuracy: 0.9028 - val_loss: 1.3739 - val_accuracy: 0.6111\n",
            "Epoch 64/75\n",
            "15/15 [==============================] - 1s 36ms/step - loss: 0.1988 - accuracy: 0.9306 - val_loss: 0.9465 - val_accuracy: 0.7778\n",
            "Epoch 65/75\n",
            "15/15 [==============================] - 1s 37ms/step - loss: 0.1482 - accuracy: 0.9444 - val_loss: 1.1118 - val_accuracy: 0.7222\n",
            "Epoch 66/75\n",
            "15/15 [==============================] - 1s 37ms/step - loss: 0.1886 - accuracy: 0.9167 - val_loss: 1.2129 - val_accuracy: 0.6111\n",
            "Epoch 67/75\n",
            "15/15 [==============================] - 1s 36ms/step - loss: 0.3258 - accuracy: 0.8333 - val_loss: 1.4134 - val_accuracy: 0.5000\n",
            "Epoch 68/75\n",
            "15/15 [==============================] - 1s 37ms/step - loss: 0.2097 - accuracy: 0.9306 - val_loss: 1.4355 - val_accuracy: 0.6111\n",
            "Epoch 69/75\n",
            "15/15 [==============================] - 1s 37ms/step - loss: 0.2523 - accuracy: 0.9028 - val_loss: 1.8339 - val_accuracy: 0.5556\n",
            "Epoch 70/75\n",
            "15/15 [==============================] - 1s 36ms/step - loss: 0.3148 - accuracy: 0.8750 - val_loss: 1.3995 - val_accuracy: 0.5556\n",
            "Epoch 71/75\n",
            "15/15 [==============================] - 1s 36ms/step - loss: 0.1660 - accuracy: 0.9306 - val_loss: 1.3408 - val_accuracy: 0.6667\n",
            "Epoch 72/75\n",
            "15/15 [==============================] - 1s 37ms/step - loss: 0.1867 - accuracy: 0.9306 - val_loss: 1.6536 - val_accuracy: 0.6111\n",
            "Epoch 73/75\n",
            "15/15 [==============================] - 1s 35ms/step - loss: 0.1680 - accuracy: 0.9306 - val_loss: 1.5683 - val_accuracy: 0.5556\n",
            "Epoch 74/75\n",
            "15/15 [==============================] - 1s 36ms/step - loss: 0.1909 - accuracy: 0.9028 - val_loss: 1.3575 - val_accuracy: 0.6111\n",
            "Epoch 75/75\n",
            "15/15 [==============================] - 1s 38ms/step - loss: 0.1588 - accuracy: 0.9444 - val_loss: 1.1119 - val_accuracy: 0.7778\n"
          ]
        },
        {
          "output_type": "execute_result",
          "data": {
            "text/plain": [
              "<keras.callbacks.History at 0x7fe3192062d0>"
            ]
          },
          "metadata": {},
          "execution_count": 17
        }
      ]
    },
    {
      "cell_type": "code",
      "source": [
        "model.evaluate(X_test,y_test)"
      ],
      "metadata": {
        "id": "2VwNdp-KtLTA"
      },
      "execution_count": null,
      "outputs": []
    },
    {
      "cell_type": "code",
      "source": [
        "plt.plot(hist.history['loss'])\n",
        "plt.plot(hist.history['val_loss'])\n",
        "plt.title('Classifier Loss')\n",
        "plt.ylabel('Loss')\n",
        "plt.xlabel('Epoch')\n",
        "plt.legend(['Train','Validation'],loc='upper right')\n",
        "plt.show()"
      ],
      "metadata": {
        "id": "T7ids7IGu4u7"
      },
      "execution_count": null,
      "outputs": []
    },
    {
      "cell_type": "code",
      "source": [
        "plt.plot(hist.history['accuracy'])\n",
        "plt.plot(hist.history['val_accuracy'])\n",
        "plt.title('Classifier Accuracy')\n",
        "plt.ylabel('Accuracy')\n",
        "plt.xlabel('Epoch')\n",
        "plt.legend(['Train','Validation'],loc='upper left')\n",
        "plt.show()"
      ],
      "metadata": {
        "id": "mM3xo5Olu48l"
      },
      "execution_count": null,
      "outputs": []
    },
    {
      "cell_type": "code",
      "source": [],
      "metadata": {
        "id": "G_700xdnmIDy"
      },
      "execution_count": null,
      "outputs": []
    },
    {
      "cell_type": "code",
      "source": [],
      "metadata": {
        "id": "-1igLN0AmIUI"
      },
      "execution_count": null,
      "outputs": []
    },
    {
      "cell_type": "code",
      "source": [],
      "metadata": {
        "id": "lHz0PLJtmIhK"
      },
      "execution_count": null,
      "outputs": []
    },
    {
      "cell_type": "code",
      "source": [],
      "metadata": {
        "id": "e5MMrGQYVo5K"
      },
      "execution_count": null,
      "outputs": []
    }
  ]
}